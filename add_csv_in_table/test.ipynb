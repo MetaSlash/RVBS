{
 "cells": [
  {
   "cell_type": "code",
   "execution_count": null,
   "metadata": {},
   "outputs": [],
   "source": [
    "import csv\n",
    "\n",
    "def generate_sql_from_csv(csv_file_path, table_name, encoding='utf-8'):\n",
    "    try:\n",
    "        with open(csv_file_path, mode='r', newline='', encoding=encoding) as csvfile:\n",
    "            csvreader = csv.reader(csvfile)\n",
    "            headers = next(csvreader)  # Lire les en-têtes\n",
    "\n",
    "            # Générer la partie VALUES de la commande SQL\n",
    "            values = []\n",
    "            for row in csvreader:\n",
    "                # Convertir chaque valeur en une chaîne SQL appropriée\n",
    "                sql_values = ', '.join([f'\"{value}\"' if not value.replace('.', '', 1).isdigit() else value for value in row])\n",
    "                values.append(f\"({sql_values})\")\n",
    "\n",
    "            # Combiner toutes les valeurs en une seule chaîne\n",
    "            values_str = \",\\n           \".join(values)\n",
    "\n",
    "            # Générer la commande SQL complète\n",
    "            sql_command = f\"INSERT INTO {table_name}\\n           ({', '.join(headers)})\\n    VALUES\\n           {values_str};\"\n",
    "\n",
    "            return sql_command\n",
    "    except UnicodeDecodeError:\n",
    "        print(f\"Erreur de décodage avec l'encodage {encoding}. Essayez un autre encodage.\")\n",
    "        return None\n",
    "\n",
    "# Exemple d'utilisation\n",
    "csv_file_path = '1-DEBIT GENERAL CGLE26_utf8.csv'  # Chemin vers votre fichier CSV\n",
    "table_name = 'rvbs'\n",
    "\n",
    "# Essayer d'abord avec UTF-8\n",
    "sql_command = generate_sql_from_csv(csv_file_path, table_name, encoding='utf-8')\n",
    "if sql_command is None:\n",
    "    # Si UTF-8 échoue, essayer avec ISO-8859-1\n",
    "    sql_command = generate_sql_from_csv(csv_file_path, table_name, encoding='iso-8859-1')\n",
    "\n",
    "if sql_command:\n",
    "    print(sql_command)\n"
   ]
  },
  {
   "cell_type": "code",
   "execution_count": null,
   "metadata": {},
   "outputs": [],
   "source": [
    "import csv\n",
    "\n",
    "def replace_quotes_in_csv(input_file_path, output_file_path, encoding='utf-8'):\n",
    "    try:\n",
    "        # Lire le fichier CSV avec l'encodage spécifié\n",
    "        with open(input_file_path, mode='r', newline='', encoding=encoding) as infile:\n",
    "            csvreader = csv.reader(infile)\n",
    "            rows = []\n",
    "            for row in csvreader:\n",
    "                # Remplacer les doubles quotes par des quotes simples dans chaque cellule\n",
    "                new_row = [cell.replace('\"', \"'\") for cell in row]\n",
    "                rows.append(new_row)\n",
    "\n",
    "        # Écrire le contenu modifié dans un nouveau fichier CSV\n",
    "        with open(output_file_path, mode='w', newline='', encoding=encoding) as outfile:\n",
    "            csvwriter = csv.writer(outfile)\n",
    "            csvwriter.writerows(rows)\n",
    "\n",
    "        print(f\"Les quotes ont été remplacées avec succès. Le fichier de sortie est : {output_file_path}\")\n",
    "\n",
    "    except UnicodeDecodeError:\n",
    "        print(f\"Erreur de décodage avec l'encodage {encoding}. Essayez un autre encodage.\")\n",
    "\n",
    "# Exemple d'utilisation\n",
    "input_file_path = '1-DEBIT GENERAL CGLE26_utf8.csv'  # Chemin vers votre fichier CSV\n",
    "output_file_path = '1-DEBIT GENERAL CGLE26_modified.csv'  # Chemin pour le nouveau fichier\n",
    "\n",
    "# Essayer d'abord avec UTF-8\n",
    "replace_quotes_in_csv(input_file_path, output_file_path, encoding='utf-8')\n",
    "\n"
   ]
  },
  {
   "cell_type": "code",
   "execution_count": 3,
   "metadata": {},
   "outputs": [
    {
     "name": "stdout",
     "output_type": "stream",
     "text": [
      "coucou\n",
      "ça va \n",
      "?\n",
      "\n"
     ]
    }
   ],
   "source": [
    "list = [\"coucou\", \"ça va \", \"?\"]\n",
    "message = \"\"\n",
    "for i in range(len(list)):\n",
    "    message += list[i] + \"\\n\"\n",
    "\n",
    "print(message)"
   ]
  }
 ],
 "metadata": {
  "kernelspec": {
   "display_name": "Python 3",
   "language": "python",
   "name": "python3"
  },
  "language_info": {
   "codemirror_mode": {
    "name": "ipython",
    "version": 3
   },
   "file_extension": ".py",
   "mimetype": "text/x-python",
   "name": "python",
   "nbconvert_exporter": "python",
   "pygments_lexer": "ipython3",
   "version": "3.12.3"
  }
 },
 "nbformat": 4,
 "nbformat_minor": 2
}
